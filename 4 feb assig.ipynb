{
 "cells": [
  {
   "cell_type": "markdown",
   "id": "af5efa12-f37f-425c-8fa9-2f3cc351d7c5",
   "metadata": {},
   "source": [
    "# Assignment - 5 "
   ]
  },
  {
   "cell_type": "markdown",
   "id": "3a78abad-0ee3-4a30-9959-80352a3811f5",
   "metadata": {},
   "source": [
    "# Answer-1"
   ]
  },
  {
   "cell_type": "code",
   "execution_count": 1,
   "id": "9e536b93-d69c-474b-9126-47cda4f2e3a3",
   "metadata": {},
   "outputs": [],
   "source": [
    "t=('Sachin Tendulkar',34357),('Ricky Ponting',27483),('Jack Kallis',25534),('Virat Kohli',24936)"
   ]
  },
  {
   "cell_type": "code",
   "execution_count": 7,
   "id": "4d95aa2f-2159-402c-8544-72a796e7f70d",
   "metadata": {},
   "outputs": [],
   "source": [
    "sort=lambda t :sorted(t)"
   ]
  },
  {
   "cell_type": "code",
   "execution_count": 8,
   "id": "83617683-24b5-4d15-bfe6-6ea2a102eb38",
   "metadata": {},
   "outputs": [
    {
     "data": {
      "text/plain": [
       "[('Jack Kallis', 25534),\n",
       " ('Ricky Ponting', 27483),\n",
       " ('Sachin Tendulkar', 34357),\n",
       " ('Virat Kohli', 24936)]"
      ]
     },
     "execution_count": 8,
     "metadata": {},
     "output_type": "execute_result"
    }
   ],
   "source": [
    "sort(t)"
   ]
  },
  {
   "cell_type": "markdown",
   "id": "ded34693-efb6-4ac7-92af-248d9144b92b",
   "metadata": {},
   "source": [
    "# Answer-2"
   ]
  },
  {
   "cell_type": "code",
   "execution_count": 13,
   "id": "8a0b0e7b-712e-466e-81e6-b23e605ac476",
   "metadata": {},
   "outputs": [],
   "source": [
    "l=[1,2,3,4,5,6,7,8,9,10]"
   ]
  },
  {
   "cell_type": "code",
   "execution_count": 14,
   "id": "0bed1532-81df-4f45-be45-bc04b2a49d6e",
   "metadata": {},
   "outputs": [
    {
     "data": {
      "text/plain": [
       "[1, 4, 9, 16, 25, 36, 49, 64, 81, 100]"
      ]
     },
     "execution_count": 14,
     "metadata": {},
     "output_type": "execute_result"
    }
   ],
   "source": [
    "list(map(lambda x:x**2,l))"
   ]
  },
  {
   "cell_type": "markdown",
   "id": "07962b66-f121-4a30-913c-00a44bd1121b",
   "metadata": {},
   "source": [
    "# Answer-3"
   ]
  },
  {
   "cell_type": "code",
   "execution_count": 15,
   "id": "7b110125-afed-4356-a3b3-252dc3763221",
   "metadata": {},
   "outputs": [],
   "source": [
    "s=[1,2,3,4,5,6,7,8,9,10]"
   ]
  },
  {
   "cell_type": "code",
   "execution_count": 16,
   "id": "522da4eb-81b5-4f82-bc62-1781c129e391",
   "metadata": {},
   "outputs": [
    {
     "data": {
      "text/plain": [
       "(1, 2, 3, 4, 5, 6, 7, 8, 9, 10)"
      ]
     },
     "execution_count": 16,
     "metadata": {},
     "output_type": "execute_result"
    }
   ],
   "source": [
    "tuple(map(lambda x:x,s))"
   ]
  },
  {
   "cell_type": "markdown",
   "id": "2f26fdea-bc2d-49c8-9ee8-97f345f4d0d1",
   "metadata": {},
   "source": [
    "# Answer-4"
   ]
  },
  {
   "cell_type": "code",
   "execution_count": 18,
   "id": "b3b69a7a-855f-4c52-963e-7e96835922eb",
   "metadata": {},
   "outputs": [],
   "source": [
    "l=[]\n",
    "for i in range(1,26):\n",
    "    l.append(i)"
   ]
  },
  {
   "cell_type": "code",
   "execution_count": 19,
   "id": "bb308e5c-8be1-40f9-8078-db981cb30682",
   "metadata": {},
   "outputs": [
    {
     "data": {
      "text/plain": [
       "[1,\n",
       " 2,\n",
       " 3,\n",
       " 4,\n",
       " 5,\n",
       " 6,\n",
       " 7,\n",
       " 8,\n",
       " 9,\n",
       " 10,\n",
       " 11,\n",
       " 12,\n",
       " 13,\n",
       " 14,\n",
       " 15,\n",
       " 16,\n",
       " 17,\n",
       " 18,\n",
       " 19,\n",
       " 20,\n",
       " 21,\n",
       " 22,\n",
       " 23,\n",
       " 24,\n",
       " 25]"
      ]
     },
     "execution_count": 19,
     "metadata": {},
     "output_type": "execute_result"
    }
   ],
   "source": [
    "l"
   ]
  },
  {
   "cell_type": "code",
   "execution_count": 21,
   "id": "fcd0ce7f-af0d-4261-b1af-9a10fcc935d2",
   "metadata": {},
   "outputs": [
    {
     "data": {
      "text/plain": [
       "15511210043330985984000000"
      ]
     },
     "execution_count": 21,
     "metadata": {},
     "output_type": "execute_result"
    }
   ],
   "source": [
    "from functools import reduce\n",
    "reduce(lambda x,y: x*y,l)"
   ]
  },
  {
   "cell_type": "markdown",
   "id": "698dbb20-d303-4549-af2a-8dc905a7f33e",
   "metadata": {},
   "source": [
    "# Answer-5"
   ]
  },
  {
   "cell_type": "code",
   "execution_count": 22,
   "id": "1303e23a-fbb4-42ff-b842-a0a023b2e0bd",
   "metadata": {},
   "outputs": [
    {
     "data": {
      "text/plain": [
       "[6, 60, 90, 120]"
      ]
     },
     "execution_count": 22,
     "metadata": {},
     "output_type": "execute_result"
    }
   ],
   "source": [
    "l1=[2,3,6,9,27,60,90,120,55,46]\n",
    "list(filter(lambda x: x%2==0 and x%3==0, l1))"
   ]
  },
  {
   "cell_type": "markdown",
   "id": "2bb378c8-52ca-4309-8054-e130048dd4ad",
   "metadata": {},
   "source": [
    "# Answer-6"
   ]
  },
  {
   "cell_type": "code",
   "execution_count": 4,
   "id": "4f6f70cd-75de-4af2-a6c5-2aa143d7a621",
   "metadata": {},
   "outputs": [],
   "source": [
    "l2=['python','php','aba','radar','level']"
   ]
  },
  {
   "cell_type": "code",
   "execution_count": 5,
   "id": "a80652d6-387c-450b-ad78-05d277882530",
   "metadata": {},
   "outputs": [
    {
     "data": {
      "text/plain": [
       "['php', 'aba', 'radar', 'level']"
      ]
     },
     "execution_count": 5,
     "metadata": {},
     "output_type": "execute_result"
    }
   ],
   "source": [
    "list(filter(lambda x:(x==\"\".join(reversed(x))),l2))"
   ]
  },
  {
   "cell_type": "code",
   "execution_count": null,
   "id": "12f7b6a8-112c-4bc2-9279-aa6126b336aa",
   "metadata": {},
   "outputs": [],
   "source": []
  }
 ],
 "metadata": {
  "kernelspec": {
   "display_name": "Python 3 (ipykernel)",
   "language": "python",
   "name": "python3"
  },
  "language_info": {
   "codemirror_mode": {
    "name": "ipython",
    "version": 3
   },
   "file_extension": ".py",
   "mimetype": "text/x-python",
   "name": "python",
   "nbconvert_exporter": "python",
   "pygments_lexer": "ipython3",
   "version": "3.10.8"
  }
 },
 "nbformat": 4,
 "nbformat_minor": 5
}
